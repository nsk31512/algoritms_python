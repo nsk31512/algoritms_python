{
  "nbformat": 4,
  "nbformat_minor": 0,
  "metadata": {
    "colab": {
      "name": "Algoritm_Hw3.ipynb",
      "provenance": [],
      "collapsed_sections": [],
      "toc_visible": true,
      "authorship_tag": "ABX9TyMFsBs15ESa/UF8Bw/dy197",
      "include_colab_link": true
    },
    "kernelspec": {
      "name": "python3",
      "display_name": "Python 3"
    },
    "language_info": {
      "name": "python"
    }
  },
  "cells": [
    {
      "cell_type": "markdown",
      "metadata": {
        "id": "view-in-github",
        "colab_type": "text"
      },
      "source": [
        "<a href=\"https://colab.research.google.com/github/nsk31512/algoritms_python/blob/alg_ds_hw3/Algoritm_Hw3.ipynb\" target=\"_parent\"><img src=\"https://colab.research.google.com/assets/colab-badge.svg\" alt=\"Open In Colab\"/></a>"
      ]
    },
    {
      "cell_type": "code",
      "execution_count": 223,
      "metadata": {
        "id": "60PAILwkbTlr"
      },
      "outputs": [],
      "source": [
        "import matplotlib\n",
        "import numpy as np\n",
        "import matplotlib.pyplot as plt\n",
        "from scipy.stats import norm\n",
        "%matplotlib inline"
      ]
    },
    {
      "cell_type": "code",
      "source": [
        "class logistic_regression:\n",
        "    def __init__(self, n_iterations=1000, eta=0.05):\n",
        "        self.n_iterations=1000\n",
        "        self.eta=eta\n",
        "    def _log_grad(self, X, target):\n",
        "        m = X.shape[0]\n",
        "        y=(2*target-1)\n",
        "        score=np.dot(X, self.w.T).flatten()+self.w0\n",
        "        Z=-y/(m*(1+np.exp(y*score)))\n",
        "        grad=Z[np.newaxis, :].dot(X)\n",
        "        return grad/m, np.sum(Z)/m\n",
        "    def _optimize(self, X, target):\n",
        "        for i in range(self.n_iterations):        \n",
        "            grad_w, grad_w0 = self._log_grad(X, target)\n",
        "            self.w = self.w-self.eta * grad_w\n",
        "            self.w0 = self.w0 - self.eta * grad_w0\n",
        "    def fit(self, X, target):\n",
        "        self.w = np.zeros((1, X.shape[1]))\n",
        "        self.w0=0\n",
        "        self._optimize(X, target)\n",
        "    def predict_proba(self, X):  \n",
        "        '''\n",
        "        Рассчёт вероятности\n",
        "        '''\n",
        "        score=X.dot(self.w.T).flatten()+self.w0\n",
        "        return 1/(1+np.exp(-score))\n",
        "    def predict(self, X, thr=0.5):\n",
        "        proba=self.predict_proba(X)\n",
        "        y_predicted = np.zeros(proba.shape) \n",
        "        y_predicted[proba>thr]=1\n",
        "        y_predicted[proba<=thr]=0\n",
        "        return y_predicted"
      ],
      "metadata": {
        "id": "TV6LakKHbnjn"
      },
      "execution_count": 224,
      "outputs": []
    },
    {
      "cell_type": "code",
      "source": [
        "from sklearn import datasets\n",
        "from matplotlib.colors import ListedColormap\n",
        "\n",
        "# сгеренируем данные с помощью sklearn.datasets\n",
        "classes = datasets.make_classification(n_samples=100, n_features=2, n_informative=2,\n",
        "                                       n_redundant=0, n_classes=2, random_state=1)\n",
        "# datasets.make_blobs(centers = 2, cluster_std = 1.5, random_state=12)\n",
        "\n",
        "# и изобразим их на графике\n",
        "colors = ListedColormap(['red', 'blue'])\n",
        "\n",
        "plt.figure(figsize=(8, 8))\n",
        "plt.scatter([x[0] for x in classes[0]], [x[1] for x in classes[0]], c=classes[1], cmap=colors)"
      ],
      "metadata": {
        "colab": {
          "base_uri": "https://localhost:8080/",
          "height": 500
        },
        "id": "mk8loVoFb1qM",
        "outputId": "ef2b4f01-3d9d-4e51-c930-80493ff45cbc"
      },
      "execution_count": 225,
      "outputs": [
        {
          "output_type": "execute_result",
          "data": {
            "text/plain": [
              "<matplotlib.collections.PathCollection at 0x7f5defd10310>"
            ]
          },
          "metadata": {},
          "execution_count": 225
        },
        {
          "output_type": "display_data",
          "data": {
            "text/plain": [
              "<Figure size 576x576 with 1 Axes>"
            ],
            "image/png": "[encoded data removed]"
          },
          "metadata": {
            "needs_background": "light"
          }
        }
      ]
    },
    {
      "cell_type": "code",
      "source": [
        "# перемешивание датасета\n",
        "np.random.seed(42)\n",
        "shuffle_index = np.random.permutation(classes[0].shape[0])\n",
        "X_shuffled, y_shuffled = classes[0][shuffle_index], classes[1][shuffle_index]\n",
        "\n",
        "# разбивка на обучающую и тестовую выборки\n",
        "train_proportion = 0.75\n",
        "train_test_cut = int(len(classes[0]) * train_proportion)\n",
        "\n",
        "X_train, X_test, y_train, y_test = \\\n",
        "    X_shuffled[:train_test_cut], \\\n",
        "    X_shuffled[train_test_cut:], \\\n",
        "    y_shuffled[:train_test_cut], \\\n",
        "    y_shuffled[train_test_cut:]\n",
        "    \n",
        "print(\"Размер массива признаков обучающей выборки\", X_train.shape)\n",
        "print(\"Размер массива признаков тестовой выборки\", X_test.shape)\n",
        "print(\"Размер массива ответов для обучающей выборки\", y_train.shape)\n",
        "print(\"Размер массива ответов для тестовой выборки\", y_test.shape)"
      ],
      "metadata": {
        "colab": {
          "base_uri": "https://localhost:8080/"
        },
        "id": "-n0Ip0rGb4bM",
        "outputId": "51117320-7996-4d16-f308-ebc0865dd1d7"
      },
      "execution_count": 226,
      "outputs": [
        {
          "output_type": "stream",
          "name": "stdout",
          "text": [
            "Размер массива признаков обучающей выборки (75, 2)\n",
            "Размер массива признаков тестовой выборки (25, 2)\n",
            "Размер массива ответов для обучающей выборки (75,)\n",
            "Размер массива ответов для тестовой выборки (25,)\n"
          ]
        }
      ]
    },
    {
      "cell_type": "markdown",
      "source": [
        "#Порог 0,5"
      ],
      "metadata": {
        "id": "PYnosqCylMmd"
      }
    },
    {
      "cell_type": "code",
      "source": [
        "mod=logistic_regression()\n",
        "mod.fit(X_train, y_train)"
      ],
      "metadata": {
        "id": "eqgt3FOodVfS"
      },
      "execution_count": 227,
      "outputs": []
    },
    {
      "cell_type": "code",
      "source": [
        "def confusion(predicted, actual):\n",
        "    TP=np.sum(np.logical_and(predicted==1, actual==1))\n",
        "    FP=np.sum(np.logical_and(predicted==1, actual==0))\n",
        "    FN=np.sum(np.logical_and(predicted==0, actual==1))\n",
        "    TN=np.sum(np.logical_and(predicted==0, actual==0))\n",
        "    return {'TP': TP, 'FP': FP, 'FN': FN, 'TN': TN}"
      ],
      "metadata": {
        "id": "xURf4eTcfJ10"
      },
      "execution_count": 228,
      "outputs": []
    },
    {
      "cell_type": "code",
      "source": [
        "def logloss_report(X_train_, X_test_, mod_, lim = 0.5):\n",
        "  y_predicted_test = mod_.predict(X_test_, lim)\n",
        "  y_predicted_train = mod_.predict(X_train_, lim)\n",
        "\n",
        "  # В качестве меры точности возьмем долю правильных ответов\n",
        "  train_accuracy = 100.0 - np.mean(np.abs(y_predicted_train - y_train)*100.0)\n",
        "  test_accuracy = 100.0 - np.mean(np.abs(y_predicted_test-y_test)*100.0)\n",
        "\n",
        "  print(f\"Итоговый вектор весов w: {mod.w}\")\n",
        "  print(f\"Точность на обучающей выборке: {train_accuracy:.3f}\")\n",
        "  print(f\"Точность на тестовой выборке: {test_accuracy:.3f}\\n\")\n",
        "\n",
        "  cofusion_fixed = confusion(y_predicted_test, y_test)\n",
        "\n",
        "  precision = cofusion_fixed['TP'] / (cofusion_fixed['TP'] + cofusion_fixed['FP'])\n",
        "  recall = cofusion_fixed['TP'] / (cofusion_fixed['TP'] + cofusion_fixed['FN'])\n",
        "  FPR = cofusion_fixed['FP'] / (cofusion_fixed['FP'] + cofusion_fixed['TN'])\n",
        "  TPR = recall\n",
        "  print(f\"Для порога по вероятности {lim} на тестовой выборке имеем: точность {precision}, \"+\n",
        "        f\"полноту {recall}, FPR {FPR}, TPR {TPR}\\n\")\n",
        "  \n",
        "  bins_pos = (y_predicted_test > 0)\n",
        "  bins_neg = (y_predicted_test == 0)\n",
        "  num_pos, num_neg=np.sum(bins_pos), np.sum(bins_neg)\n",
        "  print(f'{num_pos} объектов положительного класса, {num_neg} объектов негативного класса\\n')\n",
        "\n",
        "  TPR = np.concatenate([[0], np.cumsum(bins_neg)/num_neg])\n",
        "  FPR = np.concatenate([[0], np.cumsum(bins_pos)/num_pos])\n",
        "  print(f'TPR: {TPR};\\n FPR: {FPR}\\n')\n",
        "\n",
        "  precision = np.cumsum(bins_neg) / (np.cumsum(bins_neg) + np.cumsum(bins_pos))\n",
        "  recall = TPR\n",
        "  print(f'Precision: {precision};\\n Recall: {recall}\\n')\n",
        "\n",
        "  AUC_ROC = np.sum((FPR[1:]-FPR[:-1])*(TPR[1:]+TPR[:-1])/2)\n",
        "  AUC_PR = np.sum(precision * (recall[1:]-recall[:-1]))\n",
        "\n",
        "  fig, (ax1, ax2) = plt.subplots(1, 2, sharey=True)\n",
        "  fig.set_size_inches(12, 6)\n",
        "  \n",
        "  ax1.plot(FPR, TPR) \n",
        "  ax1.set_title('AUC-PR')\n",
        "  ax1.set_xlabel('FPR')\n",
        "  ax1.set_ylabel('TPR')\n",
        "  ax1.legend(' ', title=f'AUC-ROC={AUC_ROC:.3f}', loc='lower right')\n",
        "  \n",
        "  \n",
        "  ax2.plot(recall[1:], precision)\n",
        "  ax2.set_title('AUC-PR')\n",
        "  ax2.set_xlabel('recall')\n",
        "  ax2.set_ylabel('precision')\n",
        "  ax2.legend(' ', title=f'AUC-PR={AUC_PR:.3f}', loc='lower right')"
      ],
      "metadata": {
        "id": "3hiwJFrcr5sI"
      },
      "execution_count": 229,
      "outputs": []
    },
    {
      "cell_type": "code",
      "source": [
        "logloss_report(X_train, X_test, mod)"
      ],
      "metadata": {
        "colab": {
          "base_uri": "https://localhost:8080/",
          "height": 821
        },
        "id": "rDg4Rd8em4Lc",
        "outputId": "d23d3a05-07dd-4bb5-dfee-9f17739c9fc7"
      },
      "execution_count": 230,
      "outputs": [
        {
          "output_type": "stream",
          "name": "stdout",
          "text": [
            "Итоговый вектор весов w: [[ 0.28582324 -0.00309079]]\n",
            "Точность на обучающей выборке: 96.000\n",
            "Точность на тестовой выборке: 100.000\n",
            "\n",
            "Для порога по вероятности 0.5 на тестовой выборке имеем: точность 1.0, полноту 1.0, FPR 0.0, TPR 1.0\n",
            "\n",
            "15 объектов положительного класса, 10 объектов негативного класса\n",
            "\n",
            "TPR: [0.  0.  0.  0.1 0.1 0.1 0.1 0.1 0.2 0.3 0.3 0.3 0.4 0.5 0.5 0.5 0.5 0.5\n",
            " 0.5 0.6 0.7 0.7 0.8 0.9 0.9 1. ];\n",
            " FPR: [0.         0.06666667 0.13333333 0.13333333 0.2        0.26666667\n",
            " 0.33333333 0.4        0.4        0.4        0.46666667 0.53333333\n",
            " 0.53333333 0.53333333 0.6        0.66666667 0.73333333 0.8\n",
            " 0.86666667 0.86666667 0.86666667 0.93333333 0.93333333 0.93333333\n",
            " 1.         1.        ]\n",
            "\n",
            "Precision: [0.         0.         0.33333333 0.25       0.2        0.16666667\n",
            " 0.14285714 0.25       0.33333333 0.3        0.27272727 0.33333333\n",
            " 0.38461538 0.35714286 0.33333333 0.3125     0.29411765 0.27777778\n",
            " 0.31578947 0.35       0.33333333 0.36363636 0.39130435 0.375\n",
            " 0.4       ];\n",
            " Recall: [0.  0.  0.  0.1 0.1 0.1 0.1 0.1 0.2 0.3 0.3 0.3 0.4 0.5 0.5 0.5 0.5 0.5\n",
            " 0.5 0.6 0.7 0.7 0.8 0.9 0.9 1. ]\n",
            "\n"
          ]
        },
        {
          "output_type": "display_data",
          "data": {
            "text/plain": [
              "<Figure size 864x432 with 2 Axes>"
            ],
            "image/png": "[encoded data removed]"
          },
          "metadata": {
            "needs_background": "light"
          }
        }
      ]
    },
    {
      "cell_type": "markdown",
      "source": [
        "# Порог 0,4"
      ],
      "metadata": {
        "id": "0vsMInbpsJjL"
      }
    },
    {
      "cell_type": "code",
      "source": [
        "logloss_report(X_train, X_test, mod, 0.4)"
      ],
      "metadata": {
        "colab": {
          "base_uri": "https://localhost:8080/",
          "height": 925
        },
        "id": "GyQHsRVBsLlw",
        "outputId": "7ddbd877-d905-4319-db18-c1c36f93908d"
      },
      "execution_count": 231,
      "outputs": [
        {
          "output_type": "stream",
          "name": "stdout",
          "text": [
            "Итоговый вектор весов w: [[ 0.28582324 -0.00309079]]\n",
            "Точность на обучающей выборке: 54.667\n",
            "Точность на тестовой выборке: 72.000\n",
            "\n",
            "Для порога по вероятности 0.4 на тестовой выборке имеем: точность 0.6818181818181818, полноту 1.0, FPR 0.7, TPR 1.0\n",
            "\n",
            "22 объектов положительного класса, 3 объектов негативного класса\n",
            "\n",
            "TPR: [0.         0.         0.         0.         0.         0.\n",
            " 0.         0.         0.         0.         0.         0.\n",
            " 0.         0.         0.         0.         0.         0.\n",
            " 0.         0.         0.33333333 0.33333333 0.66666667 0.66666667\n",
            " 0.66666667 1.        ];\n",
            " FPR: [0.         0.04545455 0.09090909 0.13636364 0.18181818 0.22727273\n",
            " 0.27272727 0.31818182 0.36363636 0.40909091 0.45454545 0.5\n",
            " 0.54545455 0.59090909 0.63636364 0.68181818 0.72727273 0.77272727\n",
            " 0.81818182 0.86363636 0.86363636 0.90909091 0.90909091 0.95454545\n",
            " 1.         1.        ]\n",
            "\n",
            "Precision: [0.         0.         0.         0.         0.         0.\n",
            " 0.         0.         0.         0.         0.         0.\n",
            " 0.         0.         0.         0.         0.         0.\n",
            " 0.         0.05       0.04761905 0.09090909 0.08695652 0.08333333\n",
            " 0.12      ];\n",
            " Recall: [0.         0.         0.         0.         0.         0.\n",
            " 0.         0.         0.         0.         0.         0.\n",
            " 0.         0.         0.         0.         0.         0.\n",
            " 0.         0.         0.33333333 0.33333333 0.66666667 0.66666667\n",
            " 0.66666667 1.        ]\n",
            "\n"
          ]
        },
        {
          "output_type": "display_data",
          "data": {
            "text/plain": [
              "<Figure size 864x432 with 2 Axes>"
            ],
            "image/png": "[encoded data removed]"
          },
          "metadata": {
            "needs_background": "light"
          }
        }
      ]
    },
    {
      "cell_type": "markdown",
      "source": [
        "# Порог 0.6"
      ],
      "metadata": {
        "id": "tjCmweMFsRV4"
      }
    },
    {
      "cell_type": "code",
      "source": [
        "logloss_report(X_train, X_test, mod, 0.6)"
      ],
      "metadata": {
        "colab": {
          "base_uri": "https://localhost:8080/",
          "height": 873
        },
        "id": "dbsGmD3GsUfj",
        "outputId": "070e7d81-9975-4643-dd57-e8995d14a04a"
      },
      "execution_count": 232,
      "outputs": [
        {
          "output_type": "stream",
          "name": "stdout",
          "text": [
            "Итоговый вектор весов w: [[ 0.28582324 -0.00309079]]\n",
            "Точность на обучающей выборке: 58.667\n",
            "Точность на тестовой выборке: 44.000\n",
            "\n",
            "Для порога по вероятности 0.6 на тестовой выборке имеем: точность 1.0, полноту 0.06666666666666667, FPR 0.0, TPR 0.06666666666666667\n",
            "\n",
            "1 объектов положительного класса, 24 объектов негативного класса\n",
            "\n",
            "TPR: [0.         0.04166667 0.08333333 0.125      0.125      0.16666667\n",
            " 0.20833333 0.25       0.29166667 0.33333333 0.375      0.41666667\n",
            " 0.45833333 0.5        0.54166667 0.58333333 0.625      0.66666667\n",
            " 0.70833333 0.75       0.79166667 0.83333333 0.875      0.91666667\n",
            " 0.95833333 1.        ];\n",
            " FPR: [0. 0. 0. 0. 1. 1. 1. 1. 1. 1. 1. 1. 1. 1. 1. 1. 1. 1. 1. 1. 1. 1. 1. 1.\n",
            " 1. 1.]\n",
            "\n",
            "Precision: [1.         1.         1.         0.75       0.8        0.83333333\n",
            " 0.85714286 0.875      0.88888889 0.9        0.90909091 0.91666667\n",
            " 0.92307692 0.92857143 0.93333333 0.9375     0.94117647 0.94444444\n",
            " 0.94736842 0.95       0.95238095 0.95454545 0.95652174 0.95833333\n",
            " 0.96      ];\n",
            " Recall: [0.         0.04166667 0.08333333 0.125      0.125      0.16666667\n",
            " 0.20833333 0.25       0.29166667 0.33333333 0.375      0.41666667\n",
            " 0.45833333 0.5        0.54166667 0.58333333 0.625      0.66666667\n",
            " 0.70833333 0.75       0.79166667 0.83333333 0.875      0.91666667\n",
            " 0.95833333 1.        ]\n",
            "\n"
          ]
        },
        {
          "output_type": "display_data",
          "data": {
            "text/plain": [
              "<Figure size 864x432 with 2 Axes>"
            ],
            "image/png": "[encoded data removed]"
          },
          "metadata": {
            "needs_background": "light"
          }
        }
      ]
    }
  ]
}